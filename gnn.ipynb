{
 "cells": [
  {
   "cell_type": "markdown",
   "id": "54c45e60",
   "metadata": {},
   "source": [
    "#### 1. import necessary libraries"
   ]
  },
  {
   "cell_type": "code",
   "execution_count": 1,
   "id": "69e8db8d",
   "metadata": {},
   "outputs": [],
   "source": [
    "%matplotlib inline\n",
    "\n",
    "import json\n",
    "import collections\n",
    "import numpy as np\n",
    "import pandas as pd\n",
    "\n",
    "import matplotlib\n",
    "import matplotlib.pyplot as plt\n",
    "\n",
    "\n",
    "import torch\n",
    "import torch.nn as nn\n",
    "import torch.nn.functional as F"
   ]
  },
  {
   "cell_type": "code",
   "execution_count": 2,
   "id": "c7b7fb66",
   "metadata": {},
   "outputs": [],
   "source": [
    "from torch_geometric.data import Data\n",
    "from torch_geometric.transforms import RandomNodeSplit\n",
    "from torch_geometric.utils.convert import to_networkx\n",
    "from torch_geometric.nn import GCNConv"
   ]
  },
  {
   "cell_type": "markdown",
   "id": "ea875921",
   "metadata": {},
   "source": [
    "#### 2. Load the 3 datasets into pd dataframe"
   ]
  },
  {
   "cell_type": "code",
   "execution_count": 3,
   "id": "f8b782e4",
   "metadata": {},
   "outputs": [],
   "source": [
    "features = pd.read_csv(\"data/musae_git_features.csv\")\n",
    "edges=pd.read_csv(\"data/musae_git_edges.csv\")\n",
    "target_df=pd.read_csv(\"data/musae_git_target.csv\")"
   ]
  },
  {
   "cell_type": "markdown",
   "id": "06bfec4d",
   "metadata": {},
   "source": [
    "#### 3. Let's look at what each table is about (features, edges, target)"
   ]
  },
  {
   "cell_type": "code",
   "execution_count": 4,
   "id": "b09df9d0",
   "metadata": {},
   "outputs": [
    {
     "data": {
      "text/plain": [
       "node       int64\n",
       "feature    int64\n",
       "dtype: object"
      ]
     },
     "execution_count": 4,
     "metadata": {},
     "output_type": "execute_result"
    }
   ],
   "source": [
    "#Lets make sense of the features table\n",
    "features.dtypes #seem like a table of each node and which features it has"
   ]
  },
  {
   "cell_type": "code",
   "execution_count": 5,
   "id": "8b02af7f",
   "metadata": {},
   "outputs": [
    {
     "data": {
      "text/html": [
       "<div>\n",
       "<style scoped>\n",
       "    .dataframe tbody tr th:only-of-type {\n",
       "        vertical-align: middle;\n",
       "    }\n",
       "\n",
       "    .dataframe tbody tr th {\n",
       "        vertical-align: top;\n",
       "    }\n",
       "\n",
       "    .dataframe thead th {\n",
       "        text-align: right;\n",
       "    }\n",
       "</style>\n",
       "<table border=\"1\" class=\"dataframe\">\n",
       "  <thead>\n",
       "    <tr style=\"text-align: right;\">\n",
       "      <th></th>\n",
       "      <th>node</th>\n",
       "      <th>feature</th>\n",
       "    </tr>\n",
       "  </thead>\n",
       "  <tbody>\n",
       "    <tr>\n",
       "      <th>0</th>\n",
       "      <td>0</td>\n",
       "      <td>1574</td>\n",
       "    </tr>\n",
       "    <tr>\n",
       "      <th>1</th>\n",
       "      <td>0</td>\n",
       "      <td>3773</td>\n",
       "    </tr>\n",
       "    <tr>\n",
       "      <th>2</th>\n",
       "      <td>0</td>\n",
       "      <td>3571</td>\n",
       "    </tr>\n",
       "    <tr>\n",
       "      <th>3</th>\n",
       "      <td>0</td>\n",
       "      <td>2672</td>\n",
       "    </tr>\n",
       "    <tr>\n",
       "      <th>4</th>\n",
       "      <td>0</td>\n",
       "      <td>2478</td>\n",
       "    </tr>\n",
       "  </tbody>\n",
       "</table>\n",
       "</div>"
      ],
      "text/plain": [
       "   node  feature\n",
       "0     0     1574\n",
       "1     0     3773\n",
       "2     0     3571\n",
       "3     0     2672\n",
       "4     0     2478"
      ]
     },
     "execution_count": 5,
     "metadata": {},
     "output_type": "execute_result"
    }
   ],
   "source": [
    "features.head()"
   ]
  },
  {
   "cell_type": "code",
   "execution_count": 6,
   "id": "5afb0982",
   "metadata": {},
   "outputs": [
    {
     "data": {
      "text/html": [
       "<div>\n",
       "<style scoped>\n",
       "    .dataframe tbody tr th:only-of-type {\n",
       "        vertical-align: middle;\n",
       "    }\n",
       "\n",
       "    .dataframe tbody tr th {\n",
       "        vertical-align: top;\n",
       "    }\n",
       "\n",
       "    .dataframe thead th {\n",
       "        text-align: right;\n",
       "    }\n",
       "</style>\n",
       "<table border=\"1\" class=\"dataframe\">\n",
       "  <thead>\n",
       "    <tr style=\"text-align: right;\">\n",
       "      <th></th>\n",
       "      <th>node</th>\n",
       "      <th>feature</th>\n",
       "    </tr>\n",
       "  </thead>\n",
       "  <tbody>\n",
       "    <tr>\n",
       "      <th>count</th>\n",
       "      <td>690374.000000</td>\n",
       "      <td>690374.000000</td>\n",
       "    </tr>\n",
       "    <tr>\n",
       "      <th>mean</th>\n",
       "      <td>18840.811856</td>\n",
       "      <td>1996.149079</td>\n",
       "    </tr>\n",
       "    <tr>\n",
       "      <th>std</th>\n",
       "      <td>10886.460545</td>\n",
       "      <td>1168.463607</td>\n",
       "    </tr>\n",
       "    <tr>\n",
       "      <th>min</th>\n",
       "      <td>0.000000</td>\n",
       "      <td>0.000000</td>\n",
       "    </tr>\n",
       "    <tr>\n",
       "      <th>25%</th>\n",
       "      <td>9416.000000</td>\n",
       "      <td>1022.000000</td>\n",
       "    </tr>\n",
       "    <tr>\n",
       "      <th>50%</th>\n",
       "      <td>18836.000000</td>\n",
       "      <td>1852.000000</td>\n",
       "    </tr>\n",
       "    <tr>\n",
       "      <th>75%</th>\n",
       "      <td>28276.000000</td>\n",
       "      <td>3077.000000</td>\n",
       "    </tr>\n",
       "    <tr>\n",
       "      <th>max</th>\n",
       "      <td>37699.000000</td>\n",
       "      <td>4004.000000</td>\n",
       "    </tr>\n",
       "  </tbody>\n",
       "</table>\n",
       "</div>"
      ],
      "text/plain": [
       "                node        feature\n",
       "count  690374.000000  690374.000000\n",
       "mean    18840.811856    1996.149079\n",
       "std     10886.460545    1168.463607\n",
       "min         0.000000       0.000000\n",
       "25%      9416.000000    1022.000000\n",
       "50%     18836.000000    1852.000000\n",
       "75%     28276.000000    3077.000000\n",
       "max     37699.000000    4004.000000"
      ]
     },
     "execution_count": 6,
     "metadata": {},
     "output_type": "execute_result"
    }
   ],
   "source": [
    "features.describe() #as we can see here, we are dealing with N = 37700, D = 4005"
   ]
  },
  {
   "cell_type": "code",
   "execution_count": 7,
   "id": "4d346d67",
   "metadata": {},
   "outputs": [
    {
     "data": {
      "text/plain": [
       "(array([91976, 91324, 91718, 91214, 91804, 91464, 91588, 49286]),\n",
       " array([    0,  5000, 10000, 15000, 20000, 25000, 30000, 35000, 40000]))"
      ]
     },
     "execution_count": 7,
     "metadata": {},
     "output_type": "execute_result"
    }
   ],
   "source": [
    "node_arr = np.array(features['node'])\n",
    "node_hist = np.histogram(node_arr, bins = [5000*i for i in range(9)])\n",
    "node_hist"
   ]
  },
  {
   "cell_type": "markdown",
   "id": "8091603a",
   "metadata": {},
   "source": [
    "as seen above, the nodes id does not create bias in number of features"
   ]
  },
  {
   "cell_type": "code",
   "execution_count": 8,
   "id": "180e4d09",
   "metadata": {},
   "outputs": [
    {
     "data": {
      "text/plain": [
       "1687     42\n",
       "32475    38\n",
       "36609    38\n",
       "33292    37\n",
       "30635    37\n",
       "         ..\n",
       "24180     9\n",
       "28544     9\n",
       "18349     9\n",
       "8504      8\n",
       "22868     8\n",
       "Name: node, Length: 37700, dtype: int64"
      ]
     },
     "execution_count": 8,
     "metadata": {},
     "output_type": "execute_result"
    }
   ],
   "source": [
    "features['node'].value_counts()"
   ]
  },
  {
   "cell_type": "markdown",
   "id": "2192b3d7",
   "metadata": {},
   "source": [
    "As seen above, its quite sparse, the number of features for each node. Compared to D = 4005"
   ]
  },
  {
   "cell_type": "code",
   "execution_count": 9,
   "id": "d66beb11",
   "metadata": {},
   "outputs": [
    {
     "data": {
      "text/plain": [
       "id            int64\n",
       "name         object\n",
       "ml_target     int64\n",
       "dtype: object"
      ]
     },
     "execution_count": 9,
     "metadata": {},
     "output_type": "execute_result"
    }
   ],
   "source": [
    "#Lets make sense of the target table (labels)\n",
    "target_df.dtypes"
   ]
  },
  {
   "cell_type": "code",
   "execution_count": 10,
   "id": "e0a120d2",
   "metadata": {},
   "outputs": [
    {
     "data": {
      "text/plain": [
       "count    37700.000000\n",
       "mean     18849.500000\n",
       "std      10883.196911\n",
       "min          0.000000\n",
       "25%       9424.750000\n",
       "50%      18849.500000\n",
       "75%      28274.250000\n",
       "max      37699.000000\n",
       "Name: id, dtype: float64"
      ]
     },
     "execution_count": 10,
     "metadata": {},
     "output_type": "execute_result"
    }
   ],
   "source": [
    "target_df['id'].describe()"
   ]
  },
  {
   "cell_type": "markdown",
   "id": "0cd4b75b",
   "metadata": {},
   "source": [
    "Note that min = 0, max = 37699 corresponds to nodes values in features table, except id is identifiers so no dupe. This clearly show that we do node classification, predicting person identity in graph"
   ]
  },
  {
   "cell_type": "code",
   "execution_count": 11,
   "id": "53a54c45",
   "metadata": {},
   "outputs": [
    {
     "data": {
      "text/plain": [
       "0          Eiryyy\n",
       "1      shawflying\n",
       "2     JpMCarrilho\n",
       "3       SuhwanCha\n",
       "4    sunilangadi2\n",
       "Name: name, dtype: object"
      ]
     },
     "execution_count": 11,
     "metadata": {},
     "output_type": "execute_result"
    }
   ],
   "source": [
    "#let's confirm that name is the person's name (or handle in github)\n",
    "target_df['name'].head()"
   ]
  },
  {
   "cell_type": "code",
   "execution_count": 12,
   "id": "ff415bf9",
   "metadata": {},
   "outputs": [
    {
     "data": {
      "text/plain": [
       "0    27961\n",
       "1     9739\n",
       "Name: ml_target, dtype: int64"
      ]
     },
     "execution_count": 12,
     "metadata": {},
     "output_type": "execute_result"
    }
   ],
   "source": [
    "#valuecounts for labels\n",
    "target_df['ml_target'].value_counts() #about 3:1 ratio, with more web devs (0) than ml devs (1)"
   ]
  },
  {
   "cell_type": "code",
   "execution_count": 13,
   "id": "07be2759",
   "metadata": {},
   "outputs": [
    {
     "data": {
      "text/plain": [
       "id_1    int64\n",
       "id_2    int64\n",
       "dtype: object"
      ]
     },
     "execution_count": 13,
     "metadata": {},
     "output_type": "execute_result"
    }
   ],
   "source": [
    "#lets now take a look at the edges table\n",
    "edges.dtypes"
   ]
  },
  {
   "cell_type": "code",
   "execution_count": 14,
   "id": "46b37bee",
   "metadata": {},
   "outputs": [
    {
     "data": {
      "text/html": [
       "<div>\n",
       "<style scoped>\n",
       "    .dataframe tbody tr th:only-of-type {\n",
       "        vertical-align: middle;\n",
       "    }\n",
       "\n",
       "    .dataframe tbody tr th {\n",
       "        vertical-align: top;\n",
       "    }\n",
       "\n",
       "    .dataframe thead th {\n",
       "        text-align: right;\n",
       "    }\n",
       "</style>\n",
       "<table border=\"1\" class=\"dataframe\">\n",
       "  <thead>\n",
       "    <tr style=\"text-align: right;\">\n",
       "      <th></th>\n",
       "      <th>id_1</th>\n",
       "      <th>id_2</th>\n",
       "    </tr>\n",
       "  </thead>\n",
       "  <tbody>\n",
       "    <tr>\n",
       "      <th>0</th>\n",
       "      <td>0</td>\n",
       "      <td>23977</td>\n",
       "    </tr>\n",
       "    <tr>\n",
       "      <th>1</th>\n",
       "      <td>1</td>\n",
       "      <td>34526</td>\n",
       "    </tr>\n",
       "    <tr>\n",
       "      <th>2</th>\n",
       "      <td>1</td>\n",
       "      <td>2370</td>\n",
       "    </tr>\n",
       "  </tbody>\n",
       "</table>\n",
       "</div>"
      ],
      "text/plain": [
       "   id_1   id_2\n",
       "0     0  23977\n",
       "1     1  34526\n",
       "2     1   2370"
      ]
     },
     "execution_count": 14,
     "metadata": {},
     "output_type": "execute_result"
    }
   ],
   "source": [
    "edges.head(3)"
   ]
  },
  {
   "cell_type": "code",
   "execution_count": 15,
   "id": "107638bc",
   "metadata": {},
   "outputs": [
    {
     "data": {
      "text/html": [
       "<div>\n",
       "<style scoped>\n",
       "    .dataframe tbody tr th:only-of-type {\n",
       "        vertical-align: middle;\n",
       "    }\n",
       "\n",
       "    .dataframe tbody tr th {\n",
       "        vertical-align: top;\n",
       "    }\n",
       "\n",
       "    .dataframe thead th {\n",
       "        text-align: right;\n",
       "    }\n",
       "</style>\n",
       "<table border=\"1\" class=\"dataframe\">\n",
       "  <thead>\n",
       "    <tr style=\"text-align: right;\">\n",
       "      <th></th>\n",
       "      <th>id_1</th>\n",
       "      <th>id_2</th>\n",
       "    </tr>\n",
       "  </thead>\n",
       "  <tbody>\n",
       "    <tr>\n",
       "      <th>count</th>\n",
       "      <td>289003.00000</td>\n",
       "      <td>289003.000000</td>\n",
       "    </tr>\n",
       "    <tr>\n",
       "      <th>mean</th>\n",
       "      <td>14812.59490</td>\n",
       "      <td>23778.812767</td>\n",
       "    </tr>\n",
       "    <tr>\n",
       "      <th>std</th>\n",
       "      <td>10155.54884</td>\n",
       "      <td>9690.937213</td>\n",
       "    </tr>\n",
       "    <tr>\n",
       "      <th>min</th>\n",
       "      <td>0.00000</td>\n",
       "      <td>16.000000</td>\n",
       "    </tr>\n",
       "    <tr>\n",
       "      <th>25%</th>\n",
       "      <td>6134.00000</td>\n",
       "      <td>16689.000000</td>\n",
       "    </tr>\n",
       "    <tr>\n",
       "      <th>50%</th>\n",
       "      <td>13413.00000</td>\n",
       "      <td>25268.000000</td>\n",
       "    </tr>\n",
       "    <tr>\n",
       "      <th>75%</th>\n",
       "      <td>22612.00000</td>\n",
       "      <td>31890.000000</td>\n",
       "    </tr>\n",
       "    <tr>\n",
       "      <th>max</th>\n",
       "      <td>37694.00000</td>\n",
       "      <td>37699.000000</td>\n",
       "    </tr>\n",
       "  </tbody>\n",
       "</table>\n",
       "</div>"
      ],
      "text/plain": [
       "               id_1           id_2\n",
       "count  289003.00000  289003.000000\n",
       "mean    14812.59490   23778.812767\n",
       "std     10155.54884    9690.937213\n",
       "min         0.00000      16.000000\n",
       "25%      6134.00000   16689.000000\n",
       "50%     13413.00000   25268.000000\n",
       "75%     22612.00000   31890.000000\n",
       "max     37694.00000   37699.000000"
      ]
     },
     "execution_count": 15,
     "metadata": {},
     "output_type": "execute_result"
    }
   ],
   "source": [
    "edges.describe()"
   ]
  },
  {
   "cell_type": "markdown",
   "id": "9f34ca5c",
   "metadata": {},
   "source": [
    "As we can see, this is very obviously a table of all 289003 edges between the 37000 nodes. "
   ]
  },
  {
   "cell_type": "markdown",
   "id": "be151c29",
   "metadata": {},
   "source": [
    "#### 4. Data exploration/visualization"
   ]
  },
  {
   "cell_type": "markdown",
   "id": "84d66371",
   "metadata": {},
   "source": [
    "###### lets now look at the distribution of num.features, i.e. do most nodes have a certain range of features? \n",
    "We know that there is 4005 features, but as seen above, the node with most features is 1687 with 42 feature, and least is node 22868 with 8 features. Can we look at a distribution of this?"
   ]
  },
  {
   "cell_type": "code",
   "execution_count": 16,
   "id": "501a28d9",
   "metadata": {},
   "outputs": [
    {
     "data": {
      "text/html": [
       "<div>\n",
       "<style scoped>\n",
       "    .dataframe tbody tr th:only-of-type {\n",
       "        vertical-align: middle;\n",
       "    }\n",
       "\n",
       "    .dataframe tbody tr th {\n",
       "        vertical-align: top;\n",
       "    }\n",
       "\n",
       "    .dataframe thead th {\n",
       "        text-align: right;\n",
       "    }\n",
       "</style>\n",
       "<table border=\"1\" class=\"dataframe\">\n",
       "  <thead>\n",
       "    <tr style=\"text-align: right;\">\n",
       "      <th></th>\n",
       "      <th>node</th>\n",
       "      <th>num_ftrs</th>\n",
       "    </tr>\n",
       "  </thead>\n",
       "  <tbody>\n",
       "    <tr>\n",
       "      <th>0</th>\n",
       "      <td>0</td>\n",
       "      <td>19</td>\n",
       "    </tr>\n",
       "    <tr>\n",
       "      <th>1</th>\n",
       "      <td>1</td>\n",
       "      <td>17</td>\n",
       "    </tr>\n",
       "    <tr>\n",
       "      <th>2</th>\n",
       "      <td>2</td>\n",
       "      <td>19</td>\n",
       "    </tr>\n",
       "    <tr>\n",
       "      <th>3</th>\n",
       "      <td>3</td>\n",
       "      <td>15</td>\n",
       "    </tr>\n",
       "    <tr>\n",
       "      <th>4</th>\n",
       "      <td>4</td>\n",
       "      <td>19</td>\n",
       "    </tr>\n",
       "  </tbody>\n",
       "</table>\n",
       "</div>"
      ],
      "text/plain": [
       "   node  num_ftrs\n",
       "0     0        19\n",
       "1     1        17\n",
       "2     2        19\n",
       "3     3        15\n",
       "4     4        19"
      ]
     },
     "execution_count": 16,
     "metadata": {},
     "output_type": "execute_result"
    }
   ],
   "source": [
    "#first groupby by node id, will shows num features recorded for each node\n",
    "num_ftrs = features.groupby(by='node').count().reset_index()\n",
    "num_ftrs.columns = ['node', 'num_ftrs']\n",
    "num_ftrs.head()"
   ]
  },
  {
   "cell_type": "code",
   "execution_count": 17,
   "id": "1ce11c71",
   "metadata": {},
   "outputs": [
    {
     "data": {
      "image/png": "[encoded data removed]",
      "text/plain": [
       "<Figure size 640x480 with 1 Axes>"
      ]
     },
     "metadata": {},
     "output_type": "display_data"
    }
   ],
   "source": [
    "#second groupby by num features, will show distribution of the num of features for all nodes\n",
    "num_ftrs_freq = num_ftrs.groupby(by='num_ftrs').count().reset_index()\n",
    "num_ftrs_freq.columns = ['num_ftrs', 'count']\n",
    "num_ftrs_freq.plot(kind='bar', x='num_ftrs', y='count')\n",
    "plt.title('frequency of num. features for all nodes')\n",
    "plt.show()"
   ]
  },
  {
   "cell_type": "markdown",
   "id": "753f6aa9",
   "metadata": {},
   "source": [
    "###### what can we learn about the feature vector with dimension D = 4005? Which features are most/least common?"
   ]
  },
  {
   "cell_type": "code",
   "execution_count": 18,
   "id": "f2ab61f4",
   "metadata": {},
   "outputs": [
    {
     "data": {
      "text/plain": [
       "ftr     4005\n",
       "freq    4005\n",
       "dtype: int64"
      ]
     },
     "execution_count": 18,
     "metadata": {},
     "output_type": "execute_result"
    }
   ],
   "source": [
    "#groupby by feature_id, will shows how many time that feature occured across all nodes\n",
    "ftr_freq = features.groupby(by='feature').count().reset_index()\n",
    "ftr_freq.columns = ['ftr', 'freq']\n",
    "ftr_freq.count()"
   ]
  },
  {
   "cell_type": "code",
   "execution_count": 19,
   "id": "5a5837cf",
   "metadata": {},
   "outputs": [
    {
     "data": {
      "text/html": [
       "<div>\n",
       "<style scoped>\n",
       "    .dataframe tbody tr th:only-of-type {\n",
       "        vertical-align: middle;\n",
       "    }\n",
       "\n",
       "    .dataframe tbody tr th {\n",
       "        vertical-align: top;\n",
       "    }\n",
       "\n",
       "    .dataframe thead th {\n",
       "        text-align: right;\n",
       "    }\n",
       "</style>\n",
       "<table border=\"1\" class=\"dataframe\">\n",
       "  <thead>\n",
       "    <tr style=\"text-align: right;\">\n",
       "      <th></th>\n",
       "      <th>ftr</th>\n",
       "      <th>freq</th>\n",
       "    </tr>\n",
       "  </thead>\n",
       "  <tbody>\n",
       "    <tr>\n",
       "      <th>3077</th>\n",
       "      <td>3077</td>\n",
       "      <td>28188</td>\n",
       "    </tr>\n",
       "    <tr>\n",
       "      <th>1852</th>\n",
       "      <td>1852</td>\n",
       "      <td>27857</td>\n",
       "    </tr>\n",
       "    <tr>\n",
       "      <th>536</th>\n",
       "      <td>536</td>\n",
       "      <td>25702</td>\n",
       "    </tr>\n",
       "  </tbody>\n",
       "</table>\n",
       "</div>"
      ],
      "text/plain": [
       "       ftr   freq\n",
       "3077  3077  28188\n",
       "1852  1852  27857\n",
       "536    536  25702"
      ]
     },
     "execution_count": 19,
     "metadata": {},
     "output_type": "execute_result"
    }
   ],
   "source": [
    "ftr_freq.sort_values(by = 'freq', ascending = False, inplace = True)\n",
    "ftr_freq.head(3)"
   ]
  },
  {
   "cell_type": "code",
   "execution_count": 20,
   "id": "34b3826a",
   "metadata": {},
   "outputs": [
    {
     "data": {
      "text/html": [
       "<div>\n",
       "<style scoped>\n",
       "    .dataframe tbody tr th:only-of-type {\n",
       "        vertical-align: middle;\n",
       "    }\n",
       "\n",
       "    .dataframe tbody tr th {\n",
       "        vertical-align: top;\n",
       "    }\n",
       "\n",
       "    .dataframe thead th {\n",
       "        text-align: right;\n",
       "    }\n",
       "</style>\n",
       "<table border=\"1\" class=\"dataframe\">\n",
       "  <thead>\n",
       "    <tr style=\"text-align: right;\">\n",
       "      <th></th>\n",
       "      <th>ftr</th>\n",
       "      <th>freq</th>\n",
       "    </tr>\n",
       "  </thead>\n",
       "  <tbody>\n",
       "    <tr>\n",
       "      <th>545</th>\n",
       "      <td>545</td>\n",
       "      <td>1</td>\n",
       "    </tr>\n",
       "    <tr>\n",
       "      <th>1641</th>\n",
       "      <td>1641</td>\n",
       "      <td>1</td>\n",
       "    </tr>\n",
       "    <tr>\n",
       "      <th>1123</th>\n",
       "      <td>1123</td>\n",
       "      <td>1</td>\n",
       "    </tr>\n",
       "  </tbody>\n",
       "</table>\n",
       "</div>"
      ],
      "text/plain": [
       "       ftr  freq\n",
       "545    545     1\n",
       "1641  1641     1\n",
       "1123  1123     1"
      ]
     },
     "execution_count": 20,
     "metadata": {},
     "output_type": "execute_result"
    }
   ],
   "source": [
    "ftr_freq.tail(3)"
   ]
  },
  {
   "cell_type": "markdown",
   "id": "097fae10",
   "metadata": {},
   "source": [
    "Very interesting, seem like certain features are very common (feature 3077 occur in 76% of the entire data set), wherease others appear only 1 time in data. Can we get a distribution of this? (i.e. how many features occur < 10 times, etc.)"
   ]
  },
  {
   "cell_type": "code",
   "execution_count": 21,
   "id": "d8856c5f",
   "metadata": {},
   "outputs": [
    {
     "name": "stdout",
     "output_type": "stream",
     "text": [
      "[  52 1284 1257  828  508   76]\n"
     ]
    },
    {
     "data": {
      "image/png": "[encoded data removed]",
      "text/plain": [
       "<Figure size 640x480 with 1 Axes>"
      ]
     },
     "metadata": {},
     "output_type": "display_data"
    }
   ],
   "source": [
    "#create barplot to visualize the distribution of freq of each feature\n",
    "freq_bins_custom = [0, 2, 10, 25, 100, 1000, ftr_freq['freq'].max()]\n",
    "freq,label = np.histogram(ftr_freq['freq'], bins = freq_bins_custom)\n",
    "print(freq)\n",
    "plt.bar(range(len(freq)), freq, tick_label = [',='+str(freq_bins_custom[i+1]) for i in range(len(freq))])\n",
    "plt.title('dist of ftr freq')\n",
    "plt.show()"
   ]
  },
  {
   "cell_type": "markdown",
   "id": "3a9edade",
   "metadata": {},
   "source": [
    "We will keep this distribution in mind later when we may consider dimensionality reduction. However keep in mind importance score is also a big factor (we can use information gain as a metric)"
   ]
  },
  {
   "cell_type": "markdown",
   "id": "af57834f",
   "metadata": {},
   "source": [
    "#### 5.1 Data transformation/encoding: node features"
   ]
  },
  {
   "cell_type": "code",
   "execution_count": 22,
   "id": "6502adfc",
   "metadata": {},
   "outputs": [],
   "source": [
    "#this is a general function to convert node feature in pair form to matrix form\n",
    "def encode_data(pair_list, n_nodes, n_ftrs):\n",
    "    res = np.zeros((n_nodes, n_ftrs), float)\n",
    "    for pair in pair_list:\n",
    "        res[pair[0]][pair[1]] = 1\n",
    "    return res\n",
    "\n",
    "H = encode_data(features.to_numpy(), 37700, 4005)"
   ]
  },
  {
   "cell_type": "code",
   "execution_count": 23,
   "id": "176d9399",
   "metadata": {},
   "outputs": [
    {
     "data": {
      "text/plain": [
       "<matplotlib.image.AxesImage at 0x1431bd760>"
      ]
     },
     "execution_count": 23,
     "metadata": {},
     "output_type": "execute_result"
    },
    {
     "data": {
      "image/png": "[encoded data removed]",
      "text/plain": [
       "<Figure size 1000x1000 with 1 Axes>"
      ]
     },
     "metadata": {},
     "output_type": "display_data"
    }
   ],
   "source": [
    "#we'll visualize to get a sense of sparsity in our matrix H\n",
    "plt.figure(figsize=(10,10));\n",
    "plt.imshow(H[:100,:250],cmap='Greys')"
   ]
  },
  {
   "cell_type": "markdown",
   "id": "4b8ff7dc",
   "metadata": {},
   "source": [
    "Our matrix of encoded data is very sparse, as expected. There is 4005 features but the amount of feature for each node is only 8-42."
   ]
  },
  {
   "cell_type": "markdown",
   "id": "3d0c15b3",
   "metadata": {},
   "source": [
    "#### 5.2 Data transformation/encoding: graph construction\n",
    "now lets construct a graph using our edges df and matrix H"
   ]
  },
  {
   "cell_type": "code",
   "execution_count": 24,
   "id": "f5c28414",
   "metadata": {},
   "outputs": [],
   "source": [
    "def construct_graph(M, labels, edges):\n",
    "    # Convert the features matrix to a tensor\n",
    "    X = torch.tensor(M, dtype=torch.float)\n",
    "    y = torch.tensor(labels)\n",
    "    # Convert the edge pairs DataFrame to a tensor\n",
    "    edge_index = torch.tensor(edges.T, dtype=torch.long)\n",
    "    \n",
    "    # Create a graph using torch_geometric.data.Data\n",
    "    graph = Data(x=X, y =y, edge_index=edge_index)\n",
    "    \n",
    "    return graph\n",
    "\n",
    "G = construct_graph(H, target_df['ml_target'].to_numpy(), edges.to_numpy())"
   ]
  },
  {
   "cell_type": "markdown",
   "id": "1ed14e99",
   "metadata": {},
   "source": [
    "#### 6.2 Machine learning with GNN"
   ]
  },
  {
   "cell_type": "code",
   "execution_count": 43,
   "id": "0cbccd60",
   "metadata": {},
   "outputs": [
    {
     "name": "stdout",
     "output_type": "stream",
     "text": [
      "Data(x=[37700, 4005], edge_index=[2, 289003], y=[37700], train_mask=[37700], val_mask=[37700], test_mask=[37700])\n",
      "training samples 3770\n",
      "validation samples 11310\n",
      "test samples 22620\n"
     ]
    }
   ],
   "source": [
    "#lets do a train test split first\n",
    "split=RandomNodeSplit(num_val = 0.3, num_test= 0.6)\n",
    "G=split(G)\n",
    "print(G)\n",
    "print(\"training samples\",torch.sum(G.train_mask).item())\n",
    "print(\"validation samples\",torch.sum(G.val_mask).item())\n",
    "print(\"test samples\",torch.sum(G.test_mask).item())"
   ]
  },
  {
   "cell_type": "markdown",
   "id": "ec35d7f2",
   "metadata": {},
   "source": [
    "first simple 2-layer GCN model:<br>\n",
    "\n",
    "The message passing process:<br>\n",
    "• $H_1 = \\phi(D^{-1}AHW_1)$ is the first layer of GCN. Pytorch doesn't actually produce A but stores information in the edge_index\n",
    "<br>\n",
    "• In conv1, a weight matrix $W_1$ is learned. It has dimension (num_ftrs, hidden_1).\n",
    "<br>\n",
    "The output $H_1$ is a new feature matrix comparable to feature matrix $H$, except it is an aggregate result of $H$ with a good aggregation method learned by the network, via tweaking $W_1$.\n",
    "<br>\n",
    "$H_1$ is then an input to conv2, and the next forward propogation is $L = \\phi(D^{-1}AH_1W_2)$ with $W_2$ weight matrix being learned to produce $L$ with dimension (num_ftrs, 2)\n",
    "<br> \n",
    "$L$ in our case is the last feature matrix and the result to our GCN model. It outputs a confidence score showing which of the 2 class the node most likely belongs to.\n",
    "\n",
    "<br>\n",
    "note: The edge_index you see below is how they store the adjacency matrix A in a memory efficient way"
   ]
  },
  {
   "cell_type": "code",
   "execution_count": 44,
   "id": "5de3329c",
   "metadata": {},
   "outputs": [],
   "source": [
    "class githubGNN(nn.Module):\n",
    "    def __init__(self, n_ftrs, hidden):\n",
    "        super(githubGNN, self).__init__()\n",
    "        \n",
    "        # Define the GCN layers\n",
    "        self.conv1 = GCNConv(n_ftrs, hidden)\n",
    "        self.conv2 = GCNConv(hidden, 2) #2 is num classes\n",
    "\n",
    "    def forward(self, data):\n",
    "        x, edge_index = data.x, data.edge_index\n",
    "\n",
    "        # First GCN layer with ReLU activation\n",
    "        x = self.conv1(x, edge_index)\n",
    "        x = F.relu(x)\n",
    "        x = F.dropout(x, p=0.6, training=self.training)\n",
    "        \n",
    "        # Second GCN layer\n",
    "        x = self.conv2(x, edge_index)\n",
    "\n",
    "        # Apply sigmoid function to get probabalistic value of output\n",
    "        return F.logsigmoid(x)\n"
   ]
  },
  {
   "cell_type": "markdown",
   "id": "83038a47",
   "metadata": {},
   "source": [
    "Let's now define a way to train our network, including specifying the detail of how to measure loss and what optimizers to use to use in training"
   ]
  },
  {
   "cell_type": "code",
   "execution_count": 51,
   "id": "fbfd544f",
   "metadata": {},
   "outputs": [
    {
     "name": "stdout",
     "output_type": "stream",
     "text": [
      "Epoch: 1/100, Train Loss: 0.6945, Train Acc: 0.4721, Val Loss: 0.6958, Val Acc: 0.4614\n",
      "Epoch: 2/100, Train Loss: 1.9389, Train Acc: 0.7363, Val Loss: 1.9153, Val Acc: 0.7425\n",
      "Epoch: 3/100, Train Loss: 0.5637, Train Acc: 0.7363, Val Loss: 0.5668, Val Acc: 0.7425\n",
      "Epoch: 4/100, Train Loss: 0.5770, Train Acc: 0.7491, Val Loss: 0.5812, Val Acc: 0.7505\n",
      "Epoch: 5/100, Train Loss: 0.6356, Train Acc: 0.7729, Val Loss: 0.6378, Val Acc: 0.7672\n",
      "Epoch: 6/100, Train Loss: 0.6366, Train Acc: 0.7538, Val Loss: 0.6393, Val Acc: 0.7519\n",
      "Epoch: 7/100, Train Loss: 0.6057, Train Acc: 0.7403, Val Loss: 0.6096, Val Acc: 0.7469\n",
      "Epoch: 8/100, Train Loss: 0.5670, Train Acc: 0.7363, Val Loss: 0.5689, Val Acc: 0.7425\n",
      "Epoch: 9/100, Train Loss: 0.5267, Train Acc: 0.7363, Val Loss: 0.5282, Val Acc: 0.7425\n",
      "Epoch: 10/100, Train Loss: 0.4988, Train Acc: 0.7363, Val Loss: 0.4986, Val Acc: 0.7425\n",
      "Epoch: 11/100, Train Loss: 0.4911, Train Acc: 0.7363, Val Loss: 0.4912, Val Acc: 0.7425\n",
      "Epoch: 12/100, Train Loss: 0.4894, Train Acc: 0.7363, Val Loss: 0.4903, Val Acc: 0.7425\n",
      "Epoch: 13/100, Train Loss: 0.4912, Train Acc: 0.7363, Val Loss: 0.4919, Val Acc: 0.7425\n",
      "Epoch: 14/100, Train Loss: 0.5002, Train Acc: 0.7363, Val Loss: 0.4927, Val Acc: 0.7425\n",
      "Epoch: 15/100, Train Loss: 0.4994, Train Acc: 0.7363, Val Loss: 0.4915, Val Acc: 0.7425\n",
      "Epoch: 16/100, Train Loss: 0.4868, Train Acc: 0.7363, Val Loss: 0.4851, Val Acc: 0.7425\n",
      "Epoch: 17/100, Train Loss: 0.4825, Train Acc: 0.7363, Val Loss: 0.4823, Val Acc: 0.7425\n",
      "Epoch: 18/100, Train Loss: 0.4779, Train Acc: 0.7363, Val Loss: 0.4801, Val Acc: 0.7425\n",
      "Epoch: 19/100, Train Loss: 0.4760, Train Acc: 0.7363, Val Loss: 0.4791, Val Acc: 0.7425\n",
      "Epoch: 20/100, Train Loss: 0.4770, Train Acc: 0.7363, Val Loss: 0.4818, Val Acc: 0.7425\n",
      "Epoch: 21/100, Train Loss: 0.4761, Train Acc: 0.7363, Val Loss: 0.4801, Val Acc: 0.7425\n",
      "Epoch: 22/100, Train Loss: 0.4712, Train Acc: 0.7366, Val Loss: 0.4762, Val Acc: 0.7426\n",
      "Epoch: 23/100, Train Loss: 0.4570, Train Acc: 0.7637, Val Loss: 0.4645, Val Acc: 0.7615\n",
      "Epoch: 24/100, Train Loss: 0.4451, Train Acc: 0.7857, Val Loss: 0.4492, Val Acc: 0.7889\n",
      "Epoch: 25/100, Train Loss: 0.4322, Train Acc: 0.8122, Val Loss: 0.4368, Val Acc: 0.8067\n",
      "Epoch: 26/100, Train Loss: 0.4232, Train Acc: 0.8231, Val Loss: 0.4302, Val Acc: 0.8202\n",
      "Epoch: 27/100, Train Loss: 0.4057, Train Acc: 0.8310, Val Loss: 0.4225, Val Acc: 0.8202\n",
      "Epoch: 28/100, Train Loss: 0.4176, Train Acc: 0.8263, Val Loss: 0.4231, Val Acc: 0.8236\n",
      "Epoch: 29/100, Train Loss: 0.4100, Train Acc: 0.8300, Val Loss: 0.4229, Val Acc: 0.8248\n",
      "Epoch: 30/100, Train Loss: 0.4075, Train Acc: 0.8297, Val Loss: 0.4275, Val Acc: 0.8202\n",
      "Epoch: 31/100, Train Loss: 0.4005, Train Acc: 0.8353, Val Loss: 0.4169, Val Acc: 0.8289\n",
      "Epoch: 32/100, Train Loss: 0.4040, Train Acc: 0.8345, Val Loss: 0.4248, Val Acc: 0.8238\n",
      "Epoch: 33/100, Train Loss: 0.4002, Train Acc: 0.8398, Val Loss: 0.4230, Val Acc: 0.8262\n",
      "Epoch: 34/100, Train Loss: 0.4002, Train Acc: 0.8398, Val Loss: 0.4239, Val Acc: 0.8256\n",
      "Epoch: 35/100, Train Loss: 0.4009, Train Acc: 0.8340, Val Loss: 0.4156, Val Acc: 0.8222\n",
      "Epoch: 36/100, Train Loss: 0.3931, Train Acc: 0.8318, Val Loss: 0.4150, Val Acc: 0.8214\n",
      "Epoch: 37/100, Train Loss: 0.3948, Train Acc: 0.8334, Val Loss: 0.4144, Val Acc: 0.8276\n",
      "Epoch: 38/100, Train Loss: 0.3956, Train Acc: 0.8390, Val Loss: 0.4164, Val Acc: 0.8271\n",
      "Epoch: 39/100, Train Loss: 0.3934, Train Acc: 0.8271, Val Loss: 0.4109, Val Acc: 0.8225\n",
      "Epoch: 40/100, Train Loss: 0.3799, Train Acc: 0.8374, Val Loss: 0.4099, Val Acc: 0.8241\n",
      "Epoch: 41/100, Train Loss: 0.3915, Train Acc: 0.8459, Val Loss: 0.4198, Val Acc: 0.8286\n",
      "Epoch: 42/100, Train Loss: 0.3809, Train Acc: 0.8480, Val Loss: 0.4016, Val Acc: 0.8340\n",
      "Epoch: 43/100, Train Loss: 0.3759, Train Acc: 0.8472, Val Loss: 0.4079, Val Acc: 0.8382\n",
      "Epoch: 44/100, Train Loss: 0.3787, Train Acc: 0.8414, Val Loss: 0.4060, Val Acc: 0.8307\n",
      "Epoch: 45/100, Train Loss: 0.3748, Train Acc: 0.8560, Val Loss: 0.4008, Val Acc: 0.8371\n",
      "Epoch: 46/100, Train Loss: 0.3703, Train Acc: 0.8544, Val Loss: 0.4034, Val Acc: 0.8418\n",
      "Epoch: 47/100, Train Loss: 0.3671, Train Acc: 0.8509, Val Loss: 0.4012, Val Acc: 0.8352\n",
      "Epoch: 48/100, Train Loss: 0.3791, Train Acc: 0.8491, Val Loss: 0.4138, Val Acc: 0.8289\n",
      "Epoch: 49/100, Train Loss: 0.3878, Train Acc: 0.8369, Val Loss: 0.4239, Val Acc: 0.8302\n",
      "Epoch: 50/100, Train Loss: 0.3689, Train Acc: 0.8517, Val Loss: 0.3978, Val Acc: 0.8414\n",
      "Epoch: 51/100, Train Loss: 0.3934, Train Acc: 0.8472, Val Loss: 0.4268, Val Acc: 0.8317\n",
      "Epoch: 52/100, Train Loss: 0.3784, Train Acc: 0.8377, Val Loss: 0.4070, Val Acc: 0.8338\n",
      "Epoch: 53/100, Train Loss: 0.3836, Train Acc: 0.8427, Val Loss: 0.4096, Val Acc: 0.8303\n",
      "Epoch: 54/100, Train Loss: 0.3720, Train Acc: 0.8483, Val Loss: 0.4038, Val Acc: 0.8398\n",
      "Epoch: 55/100, Train Loss: 0.3661, Train Acc: 0.8554, Val Loss: 0.3987, Val Acc: 0.8412\n",
      "Epoch: 56/100, Train Loss: 0.3776, Train Acc: 0.8446, Val Loss: 0.4085, Val Acc: 0.8332\n",
      "Epoch: 57/100, Train Loss: 0.3640, Train Acc: 0.8488, Val Loss: 0.3961, Val Acc: 0.8366\n",
      "Epoch: 58/100, Train Loss: 0.3847, Train Acc: 0.8557, Val Loss: 0.4205, Val Acc: 0.8338\n",
      "Epoch: 59/100, Train Loss: 0.3717, Train Acc: 0.8406, Val Loss: 0.4052, Val Acc: 0.8328\n",
      "Epoch: 60/100, Train Loss: 0.3578, Train Acc: 0.8528, Val Loss: 0.3948, Val Acc: 0.8397\n",
      "Epoch: 61/100, Train Loss: 0.3921, Train Acc: 0.8385, Val Loss: 0.4304, Val Acc: 0.8197\n",
      "Epoch: 62/100, Train Loss: 0.4043, Train Acc: 0.8263, Val Loss: 0.4323, Val Acc: 0.8207\n",
      "Epoch: 63/100, Train Loss: 0.3631, Train Acc: 0.8430, Val Loss: 0.3929, Val Acc: 0.8380\n",
      "Epoch: 64/100, Train Loss: 0.4056, Train Acc: 0.8464, Val Loss: 0.4340, Val Acc: 0.8375\n",
      "Epoch: 65/100, Train Loss: 0.3674, Train Acc: 0.8427, Val Loss: 0.3968, Val Acc: 0.8382\n",
      "Epoch: 66/100, Train Loss: 0.3748, Train Acc: 0.8448, Val Loss: 0.4087, Val Acc: 0.8378\n",
      "Epoch: 67/100, Train Loss: 0.3589, Train Acc: 0.8538, Val Loss: 0.3933, Val Acc: 0.8394\n",
      "Epoch: 68/100, Train Loss: 0.4254, Train Acc: 0.8271, Val Loss: 0.4568, Val Acc: 0.8099\n",
      "Epoch: 69/100, Train Loss: 0.4082, Train Acc: 0.8271, Val Loss: 0.4395, Val Acc: 0.8226\n",
      "Epoch: 70/100, Train Loss: 0.4031, Train Acc: 0.8252, Val Loss: 0.4278, Val Acc: 0.8195\n",
      "Epoch: 71/100, Train Loss: 0.3878, Train Acc: 0.8411, Val Loss: 0.4104, Val Acc: 0.8350\n",
      "Epoch: 72/100, Train Loss: 0.3858, Train Acc: 0.8544, Val Loss: 0.4173, Val Acc: 0.8362\n",
      "Epoch: 73/100, Train Loss: 0.3718, Train Acc: 0.8382, Val Loss: 0.4008, Val Acc: 0.8320\n",
      "Epoch: 74/100, Train Loss: 0.3854, Train Acc: 0.8411, Val Loss: 0.4129, Val Acc: 0.8322\n",
      "Epoch: 75/100, Train Loss: 0.3637, Train Acc: 0.8546, Val Loss: 0.3902, Val Acc: 0.8435\n",
      "Epoch: 76/100, Train Loss: 0.3937, Train Acc: 0.8541, Val Loss: 0.4273, Val Acc: 0.8332\n",
      "Epoch: 77/100, Train Loss: 0.3652, Train Acc: 0.8454, Val Loss: 0.3902, Val Acc: 0.8415\n",
      "Epoch: 78/100, Train Loss: 0.3809, Train Acc: 0.8337, Val Loss: 0.4073, Val Acc: 0.8320\n",
      "Epoch: 79/100, Train Loss: 0.3637, Train Acc: 0.8480, Val Loss: 0.3902, Val Acc: 0.8385\n",
      "Epoch: 80/100, Train Loss: 0.3842, Train Acc: 0.8454, Val Loss: 0.4104, Val Acc: 0.8335\n",
      "Epoch: 81/100, Train Loss: 0.3662, Train Acc: 0.8483, Val Loss: 0.3946, Val Acc: 0.8422\n",
      "Epoch: 82/100, Train Loss: 0.3760, Train Acc: 0.8401, Val Loss: 0.4026, Val Acc: 0.8367\n",
      "Epoch: 83/100, Train Loss: 0.3726, Train Acc: 0.8408, Val Loss: 0.3975, Val Acc: 0.8340\n",
      "Epoch: 84/100, Train Loss: 0.3879, Train Acc: 0.8485, Val Loss: 0.4256, Val Acc: 0.8281\n",
      "Epoch: 85/100, Train Loss: 0.3591, Train Acc: 0.8533, Val Loss: 0.3907, Val Acc: 0.8407\n",
      "Epoch: 86/100, Train Loss: 0.3804, Train Acc: 0.8340, Val Loss: 0.4098, Val Acc: 0.8290\n",
      "Epoch: 87/100, Train Loss: 0.3539, Train Acc: 0.8536, Val Loss: 0.3904, Val Acc: 0.8393\n",
      "Epoch: 88/100, Train Loss: 0.3867, Train Acc: 0.8533, Val Loss: 0.4206, Val Acc: 0.8302\n",
      "Epoch: 89/100, Train Loss: 0.3580, Train Acc: 0.8504, Val Loss: 0.3889, Val Acc: 0.8416\n",
      "Epoch: 90/100, Train Loss: 0.3805, Train Acc: 0.8443, Val Loss: 0.4097, Val Acc: 0.8335\n",
      "Epoch: 91/100, Train Loss: 0.3541, Train Acc: 0.8576, Val Loss: 0.3905, Val Acc: 0.8417\n",
      "Epoch: 92/100, Train Loss: 0.3823, Train Acc: 0.8599, Val Loss: 0.4117, Val Acc: 0.8371\n",
      "Epoch: 93/100, Train Loss: 0.3740, Train Acc: 0.8385, Val Loss: 0.4043, Val Acc: 0.8330\n",
      "Epoch: 94/100, Train Loss: 0.3616, Train Acc: 0.8525, Val Loss: 0.3909, Val Acc: 0.8369\n"
     ]
    },
    {
     "name": "stdout",
     "output_type": "stream",
     "text": [
      "Epoch: 95/100, Train Loss: 0.3760, Train Acc: 0.8544, Val Loss: 0.4143, Val Acc: 0.8340\n",
      "Epoch: 96/100, Train Loss: 0.3605, Train Acc: 0.8477, Val Loss: 0.3903, Val Acc: 0.8400\n",
      "Epoch: 97/100, Train Loss: 0.3654, Train Acc: 0.8483, Val Loss: 0.3978, Val Acc: 0.8359\n",
      "Epoch: 98/100, Train Loss: 0.3708, Train Acc: 0.8621, Val Loss: 0.4099, Val Acc: 0.8399\n",
      "Epoch: 99/100, Train Loss: 0.3576, Train Acc: 0.8541, Val Loss: 0.3915, Val Acc: 0.8421\n",
      "Epoch: 100/100, Train Loss: 0.3541, Train Acc: 0.8552, Val Loss: 0.3930, Val Acc: 0.8424\n"
     ]
    }
   ],
   "source": [
    "#We'll record our training/validation loss and accuracy in a list as we train\n",
    "tr_loss_list = []\n",
    "tr_acc_list = []\n",
    "\n",
    "v_loss_list = []\n",
    "v_acc_list = []\n",
    "\n",
    "def train_GNN(model, G, y, epochs, learn_rate, w_decay):\n",
    "    # Move data and model to the appropriate device (CPU or GPU)\n",
    "    device = torch.device('cuda' if torch.cuda.is_available() else 'cpu')\n",
    "    G = G.to(device)\n",
    "    target = y.to(device)\n",
    "    model = model.to(device)\n",
    "\n",
    "    # Define the loss function (criterion) and the optimizer\n",
    "    measure = nn.CrossEntropyLoss()\n",
    "    optimizer = torch.optim.Adam(model.parameters(), lr=learn_rate, weight_decay=w_decay)\n",
    "\n",
    "\n",
    "    # Loop through the epochs\n",
    "    for epoch in range(epochs):\n",
    "        #Reset gradients\n",
    "        optimizer.zero_grad()\n",
    "        \n",
    "        # Fwd prop (unlike ANN/CNN model is trained on entire G! Nodes are interconnected in meaningful ways)\n",
    "        y_hat = model.forward(G)\n",
    "\n",
    "        # Calculate the loss/acc for training & validation\n",
    "        tr_loss = measure(y_hat[G.train_mask], y[G.train_mask])\n",
    "        tr_acc = torch.sum((y == torch.argmax(y_hat, axis = 1))*G.train_mask)/ torch.sum(G.train_mask)\n",
    "\n",
    "        v_loss = measure(y_hat[G.val_mask], y[G.val_mask])\n",
    "        v_acc = torch.sum((y == torch.argmax(y_hat, axis = 1))*G.val_mask) / torch.sum(G.val_mask)\n",
    "        \n",
    "        # Perform a backward pass and update the model's weights, using tr_loss\n",
    "        tr_loss.backward()\n",
    "        optimizer.step()\n",
    "        \n",
    "        #record losts/acc to list over epochs\n",
    "        tr_loss_list.append(tr_loss)\n",
    "        tr_acc_list.append(tr_acc)\n",
    "        v_loss_list.append(v_loss)\n",
    "        v_acc_list.append(v_acc)\n",
    "        \n",
    "\n",
    "        #print(torch.sum(G.train_mask), torch.sum(G.val_mask)) #debug\n",
    "        # Print the current epoch and loss\n",
    "        print(f\"Epoch: {epoch+1}/{epochs}, Train Loss: {tr_loss.item():.4f}, Train Acc: {tr_acc.item():.4f}, Val Loss: {v_loss.item():.4f}, Val Acc: {v_acc.item():.4f}\")\n",
    "        \n",
    "\n",
    "# Train the model\n",
    "n_ftrs = G.x.size(1)\n",
    "h_layer = 20\n",
    "simpleGNN = githubGNN(n_ftrs, h_layer)\n",
    "\n",
    "train_GNN(simpleGNN, G, G.y, epochs=100, learn_rate=0.1, w_decay=5e-3)\n"
   ]
  },
  {
   "cell_type": "code",
   "execution_count": 52,
   "id": "eed47c54",
   "metadata": {},
   "outputs": [
    {
     "data": {
      "image/png": "[encoded data removed]",
      "text/plain": [
       "<Figure size 640x480 with 1 Axes>"
      ]
     },
     "metadata": {},
     "output_type": "display_data"
    },
    {
     "data": {
      "image/png": "[encoded data removed]",
      "text/plain": [
       "<Figure size 640x480 with 1 Axes>"
      ]
     },
     "metadata": {},
     "output_type": "display_data"
    }
   ],
   "source": [
    "#plot the training & validation loss/accuracies after training done.\n",
    "plt.plot([x.item() for x in tr_loss_list], label = 'Training', color = 'blue')  \n",
    "plt.plot([x.item() for x in v_loss_list], label = 'Validation', color = 'yellow')\n",
    "plt.legend()\n",
    "plt.show()\n",
    "\n",
    "plt.plot([x.item() for x in tr_acc_list], label = 'Training', color = 'blue')  \n",
    "plt.plot([x.item() for x in v_acc_list], label = 'Validation', color = 'yellow')\n",
    "plt.legend()\n",
    "plt.show()"
   ]
  },
  {
   "cell_type": "markdown",
   "id": "00546055",
   "metadata": {},
   "source": [
    "##### 7. Now lets try running a regular ANN model with only the features and labels and compare its training/generalization accuracy with the GNN\n"
   ]
  },
  {
   "cell_type": "code",
   "execution_count": null,
   "id": "8403df10",
   "metadata": {},
   "outputs": [],
   "source": [
    "class githubANN(nn.Module):\n",
    "    def __init__(self, n_ftrs, hidden):\n",
    "        super(githubGNN, self).__init__()\n",
    "        \n",
    "        # Define the GCN layers\n",
    "        self.conv1 = GCNConv(n_ftrs, hidden)\n",
    "        self.conv2 = GCNConv(hidden, 2) #2 is num classes\n",
    "\n",
    "    def forward(self, data):\n",
    "        x, edge_index = data.x, data.edge_index\n",
    "\n",
    "        # First GCN layer with ReLU activation\n",
    "        x = self.conv1(x, edge_index)\n",
    "        x = F.relu(x)\n",
    "        x = F.dropout(x, p=0.6, training=self.training)\n",
    "        \n",
    "        # Second GCN layer\n",
    "        x = self.conv2(x, edge_index)\n",
    "\n",
    "        # Apply sigmoid function to get probabalistic value of output\n",
    "        return F.logsigmoid(x)\n"
   ]
  },
  {
   "cell_type": "markdown",
   "id": "9ccbfc76",
   "metadata": {},
   "source": [
    "Fun test: Here is GPT4's markdown description. It claimed this is an improvement to what I just wrote for the githubGNN model. <br><br>\n",
    "A simple 2-layer GCN model:<br>\n",
    "\n",
    "The process:<br>\n",
    "• The first layer of the GCN computes $H_1 = \\phi(D^{-1}AHW_1)$. PyTorch Geometric doesn't actually construct the adjacency matrix A but stores the graph structure information in the edge_index.<br>\n",
    "• In conv1, a weight matrix $W_1$ is learned. It has dimensions (num_features, hidden_1).<br>\n",
    "• The output $H_1$ is a new feature matrix comparable to the initial feature matrix $H$, except it is an aggregated result of $H$. A suitable aggregation method is learned by the network via optimizing $W_1$.<br>\n",
    "• $H_1$ is then passed as input to conv2, and the next forward propagation computes $L = \\phi(D^{-1}AH_1W_2)$, where $W_2$ is the weight matrix being learned to produce $L$ with dimensions (hidden_1, num_classes).<br>\n",
    "• In our case, $L$ is the final output feature matrix of the GCN model. It contains logits corresponding to each class, which can be used to compute the confidence score for each node and assign it to one of the classes.<br>\n",
    "\n",
    "Note: The edge_index you see below is used to store the adjacency matrix A in a memory-efficient way.<br>\n",
    "\n",
    "    "
   ]
  },
  {
   "cell_type": "code",
   "execution_count": null,
   "id": "bd792550",
   "metadata": {},
   "outputs": [],
   "source": []
  }
 ],
 "metadata": {
  "kernelspec": {
   "display_name": "Python 3 (ipykernel)",
   "language": "python",
   "name": "python3"
  },
  "language_info": {
   "codemirror_mode": {
    "name": "ipython",
    "version": 3
   },
   "file_extension": ".py",
   "mimetype": "text/x-python",
   "name": "python",
   "nbconvert_exporter": "python",
   "pygments_lexer": "ipython3",
   "version": "3.9.16"
  }
 },
 "nbformat": 4,
 "nbformat_minor": 5
}
